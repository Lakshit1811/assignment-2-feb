{
 "cells": [
  {
   "cell_type": "markdown",
   "id": "667be120-716a-464b-92df-9db2c6703d0c",
   "metadata": {},
   "source": [
    "For loops and while loops are two types of loops in programming that are used to repeat a block of code for a specified number of times or until a certain condition is met.\n",
    "\n",
    "A for loop is used when you know the exact number of iterations that you need to perform. For example, if you want to print the numbers 1 to 10, you can use a for loop:\n",
    "for i in range(1, 11):\n",
    "    print(i)\n",
    "    \n",
    "    The for loop iterates over the range object, which generates a sequence of numbers from 1 to 10, inclusive. The loop variable i takes on each value in the sequence one at a time, and the body of the loop is executed for each iteration.\n",
    "\n",
    "A while loop, on the other hand, is used when you do not know the exact number of iterations that you need to perform, but you want to repeat the code block until a certain condition is met. For example, if you want to print the numbers from 1 to 10, but only the even numbers, you can use a while loop\n",
    "\n",
    "i = 2\n",
    "while i <= 10:\n",
    "    print(i)\n",
    "    i += 2\n",
    "    \n",
    "    The while loop checks the condition i <= 10 before each iteration, and continues to repeat the loop body as long as the condition is True. In this example, the loop variable i is incremented by 2 in each iteration, so the loop will terminate when i becomes greater than 10.\n",
    "\n",
    "In summary, use a for loop when you know the exact number of iterations you need to perform, and use a while loop when you want to repeat the code block until a certain condition is met"
   ]
  },
  {
   "cell_type": "code",
   "execution_count": 1,
   "id": "e5168136-9d68-43ea-9cd8-2f0becf0f356",
   "metadata": {},
   "outputs": [
    {
     "name": "stdout",
     "output_type": "stream",
     "text": [
      "The sum of the first 10 natural numbers is 55\n",
      "The product of the first 10 natural numbers is 3628800\n",
      "The sum of the first 10 natural numbers is 55\n",
      "The product of the first 10 natural numbers is 3628800\n"
     ]
    }
   ],
   "source": [
    "# Using a for loop\n",
    "sum = 0\n",
    "product = 1\n",
    "for i in range(1, 11):\n",
    "    sum += i\n",
    "    product *= i\n",
    "print(\"The sum of the first 10 natural numbers is\", sum)\n",
    "print(\"The product of the first 10 natural numbers is\", product)\n",
    "\n",
    "# Using a while loop\n",
    "sum = 0\n",
    "product = 1\n",
    "i = 1\n",
    "while i <= 10:\n",
    "    sum += i\n",
    "    product *= i\n",
    "    i += 1\n",
    "print(\"The sum of the first 10 natural numbers is\", sum)\n",
    "print(\"The product of the first 10 natural numbers is\", product)"
   ]
  },
  {
   "cell_type": "code",
   "execution_count": null,
   "id": "fbabd4c2-3941-4157-b93b-d44df984b7c0",
   "metadata": {},
   "outputs": [],
   "source": []
  }
 ],
 "metadata": {
  "kernelspec": {
   "display_name": "Python 3 (ipykernel)",
   "language": "python",
   "name": "python3"
  },
  "language_info": {
   "codemirror_mode": {
    "name": "ipython",
    "version": 3
   },
   "file_extension": ".py",
   "mimetype": "text/x-python",
   "name": "python",
   "nbconvert_exporter": "python",
   "pygments_lexer": "ipython3",
   "version": "3.10.8"
  }
 },
 "nbformat": 4,
 "nbformat_minor": 5
}
