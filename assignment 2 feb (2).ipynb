{
 "cells": [
  {
   "cell_type": "markdown",
   "id": "667be120-716a-464b-92df-9db2c6703d0c",
   "metadata": {},
   "source": [
    "For loops and while loops are two types of loops in programming that are used to repeat a block of code for a specified number of times or until a certain condition is met.\n",
    "\n",
    "A for loop is used when you know the exact number of iterations that you need to perform. For example, if you want to print the numbers 1 to 10, you can use a for loop:\n",
    "for i in range(1, 11):\n",
    "    print(i)\n",
    "    \n",
    "    The for loop iterates over the range object, which generates a sequence of numbers from 1 to 10, inclusive. The loop variable i takes on each value in the sequence one at a time, and the body of the loop is executed for each iteration.\n",
    "\n",
    "A while loop, on the other hand, is used when you do not know the exact number of iterations that you need to perform, but you want to repeat the code block until a certain condition is met. For example, if you want to print the numbers from 1 to 10, but only the even numbers, you can use a while loop\n",
    "\n",
    "i = 2\n",
    "while i <= 10:\n",
    "    print(i)\n",
    "    i += 2\n",
    "    \n",
    "    The while loop checks the condition i <= 10 before each iteration, and continues to repeat the loop body as long as the condition is True. In this example, the loop variable i is incremented by 2 in each iteration, so the loop will terminate when i becomes greater than 10.\n",
    "\n",
    "In summary, use a for loop when you know the exact number of iterations you need to perform, and use a while loop when you want to repeat the code block until a certain condition is met"
   ]
  },
  {
   "cell_type": "code",
   "execution_count": 1,
   "id": "e5168136-9d68-43ea-9cd8-2f0becf0f356",
   "metadata": {},
   "outputs": [
    {
     "name": "stdout",
     "output_type": "stream",
     "text": [
      "The sum of the first 10 natural numbers is 55\n",
      "The product of the first 10 natural numbers is 3628800\n",
      "The sum of the first 10 natural numbers is 55\n",
      "The product of the first 10 natural numbers is 3628800\n"
     ]
    }
   ],
   "source": [
    "# Using a for loop\n",
    "sum = 0\n",
    "product = 1\n",
    "for i in range(1, 11):\n",
    "    sum += i\n",
    "    product *= i\n",
    "print(\"The sum of the first 10 natural numbers is\", sum)\n",
    "print(\"The product of the first 10 natural numbers is\", product)\n",
    "\n",
    "# Using a while loop\n",
    "sum = 0\n",
    "product = 1\n",
    "i = 1\n",
    "while i <= 10:\n",
    "    sum += i\n",
    "    product *= i\n",
    "    i += 1\n",
    "print(\"The sum of the first 10 natural numbers is\", sum)\n",
    "print(\"The product of the first 10 natural numbers is\", product)"
   ]
  },
  {
   "cell_type": "code",
   "execution_count": 2,
   "id": "fbabd4c2-3941-4157-b93b-d44df984b7c0",
   "metadata": {},
   "outputs": [
    {
     "name": "stdin",
     "output_type": "stream",
     "text": [
      "Enter the number of units consumed:  310\n"
     ]
    },
    {
     "name": "stdout",
     "output_type": "stream",
     "text": [
      "Your total electricity bill is Rs. 2250.0\n"
     ]
    }
   ],
   "source": [
    "units = int(input(\"Enter the number of units consumed: \"))\n",
    "\n",
    "if units <= 100:\n",
    "    bill = units * 4.5\n",
    "elif units <= 200:\n",
    "    bill = (100 * 4.5) + ((units - 100) * 6)\n",
    "elif units <= 300:\n",
    "    bill = (100 * 4.5) + (100 * 6) + ((units - 200) * 10)\n",
    "else:\n",
    "    bill = (100 * 4.5) + (100 * 6) + (100 * 10) + ((units - 300) * 20)\n",
    "\n",
    "print(\"Your total electricity bill is Rs.\", bill)"
   ]
  },
  {
   "cell_type": "code",
   "execution_count": 3,
   "id": "fa51c0e8-34f7-4515-9b7d-1033d7279d2e",
   "metadata": {},
   "outputs": [
    {
     "name": "stdout",
     "output_type": "stream",
     "text": [
      "Numbers whose cube is divisible by 4 or 5 (using for loop): [2, 4, 5, 6, 8, 10, 12, 14, 15, 16, 18, 20, 22, 24, 25, 26, 28, 30, 32, 34, 35, 36, 38, 40, 42, 44, 45, 46, 48, 50, 52, 54, 55, 56, 58, 60, 62, 64, 65, 66, 68, 70, 72, 74, 75, 76, 78, 80, 82, 84, 85, 86, 88, 90, 92, 94, 95, 96, 98, 100]\n",
      "Numbers whose cube is divisible by 4 or 5 (using while loop): [2, 4, 5, 6, 8, 10, 12, 14, 15, 16, 18, 20, 22, 24, 25, 26, 28, 30, 32, 34, 35, 36, 38, 40, 42, 44, 45, 46, 48, 50, 52, 54, 55, 56, 58, 60, 62, 64, 65, 66, 68, 70, 72, 74, 75, 76, 78, 80, 82, 84, 85, 86, 88, 90, 92, 94, 95, 96, 98, 100]\n"
     ]
    }
   ],
   "source": [
    "# Using a for loop\n",
    "numbers = []\n",
    "for i in range(1, 101):\n",
    "    cube = i**3\n",
    "    if cube % 4 == 0 or cube % 5 == 0:\n",
    "        numbers.append(i)\n",
    "print(\"Numbers whose cube is divisible by 4 or 5 (using for loop):\", numbers)\n",
    "\n",
    "# Using a while loop\n",
    "numbers = []\n",
    "i = 1\n",
    "while i <= 100:\n",
    "    cube = i**3\n",
    "    if cube % 4 == 0 or cube % 5 == 0:\n",
    "        numbers.append(i)\n",
    "    i += 1\n",
    "print(\"Numbers whose cube is divisible by 4 or 5 (using while loop):\", numbers)"
   ]
  },
  {
   "cell_type": "code",
   "execution_count": 4,
   "id": "e11e9324-141a-429a-9df0-1528e93583ea",
   "metadata": {},
   "outputs": [
    {
     "name": "stdout",
     "output_type": "stream",
     "text": [
      "The number of vowels in the string is 12\n"
     ]
    }
   ],
   "source": [
    "string = \"I want to become a data scientist\"\n",
    "vowels = \"AEIOUaeiou\"\n",
    "count = 0\n",
    "\n",
    "for char in string:\n",
    "    if char in vowels:\n",
    "        count += 1\n",
    "\n",
    "print(\"The number of vowels in the string is\", count)"
   ]
  },
  {
   "cell_type": "code",
   "execution_count": null,
   "id": "087b0378-0444-44e7-9a36-f2b8281af27e",
   "metadata": {},
   "outputs": [],
   "source": []
  }
 ],
 "metadata": {
  "kernelspec": {
   "display_name": "Python 3 (ipykernel)",
   "language": "python",
   "name": "python3"
  },
  "language_info": {
   "codemirror_mode": {
    "name": "ipython",
    "version": 3
   },
   "file_extension": ".py",
   "mimetype": "text/x-python",
   "name": "python",
   "nbconvert_exporter": "python",
   "pygments_lexer": "ipython3",
   "version": "3.10.8"
  }
 },
 "nbformat": 4,
 "nbformat_minor": 5
}
